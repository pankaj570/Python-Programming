{
  "nbformat": 4,
  "nbformat_minor": 0,
  "metadata": {
    "colab": {
      "provenance": []
    },
    "kernelspec": {
      "name": "python3",
      "display_name": "Python 3"
    },
    "language_info": {
      "name": "python"
    }
  },
  "cells": [
    {
      "cell_type": "markdown",
      "source": [
        "# Inbuilt Data Structure\n",
        "- List\n",
        "- Tuple\n",
        "- Set\n",
        "- Dict"
      ],
      "metadata": {
        "id": "bv7sFMS6wv4g"
      }
    },
    {
      "cell_type": "markdown",
      "source": [
        "List : **mutable**, **ordered**, and **heterogeneous** elements.\n"
      ],
      "metadata": {
        "id": "By44QNhFw3Rv"
      }
    },
    {
      "cell_type": "code",
      "source": [
        "my_list = [1, 2, 3]\n",
        "my_list.append(4)    # append()\n",
        "print(my_list)"
      ],
      "metadata": {
        "colab": {
          "base_uri": "https://localhost:8080/"
        },
        "id": "-ZIUAMG-wzay",
        "outputId": "e42aec62-7185-4c9e-8094-b378f2cafdab"
      },
      "execution_count": 2,
      "outputs": [
        {
          "output_type": "stream",
          "name": "stdout",
          "text": [
            "[1, 2, 3, 4]\n"
          ]
        }
      ]
    },
    {
      "cell_type": "code",
      "source": [
        "my_list = [1, 2, 3]\n",
        "my_list.extend([4,5,6])  #extend()\n",
        "print(my_list)"
      ],
      "metadata": {
        "colab": {
          "base_uri": "https://localhost:8080/"
        },
        "id": "i4UML2zHxNfn",
        "outputId": "360b2f8f-8a03-403f-b0a6-c8ac1dd4d135"
      },
      "execution_count": 5,
      "outputs": [
        {
          "output_type": "stream",
          "name": "stdout",
          "text": [
            "[1, 2, 3, 4, 5, 6]\n"
          ]
        }
      ]
    },
    {
      "cell_type": "code",
      "source": [
        "my_list = [1, 2, 3]\n",
        "my_list.insert(0, 10) #insert(index, value)\n",
        "print(my_list)\n",
        "\n",
        "my_list.insert(len(my_list), 50)  # if index last or out index range it will always insert at last.\n",
        "print(my_list)"
      ],
      "metadata": {
        "colab": {
          "base_uri": "https://localhost:8080/"
        },
        "id": "ecf57JU_xw4a",
        "outputId": "df4e4fc5-e04d-4e2f-95c5-1b77ceb90e4f"
      },
      "execution_count": 9,
      "outputs": [
        {
          "output_type": "stream",
          "name": "stdout",
          "text": [
            "[10, 1, 2, 3]\n",
            "[10, 1, 2, 3, 50]\n"
          ]
        }
      ]
    },
    {
      "cell_type": "code",
      "source": [
        "my_list = [1, 2, 3, 4, 3]\n",
        "my_list.remove(1)  #remove(value)\n",
        "print(my_list)"
      ],
      "metadata": {
        "colab": {
          "base_uri": "https://localhost:8080/"
        },
        "id": "M9tLxpOryDLN",
        "outputId": "7e4b0597-1ac5-4d38-ff1c-dbf1173611f6"
      },
      "execution_count": 11,
      "outputs": [
        {
          "output_type": "stream",
          "name": "stdout",
          "text": [
            "[2, 3, 4, 3]\n"
          ]
        }
      ]
    },
    {
      "cell_type": "code",
      "source": [
        "my_list = [1, 2, 3, 4, 3]\n",
        "my_list.pop()  #pop() : delete from last\n",
        "print(my_list)\n",
        "\n",
        "my_list.pop(0)  #pop(index)\n",
        "print(my_list)"
      ],
      "metadata": {
        "colab": {
          "base_uri": "https://localhost:8080/"
        },
        "id": "1jJp6cG7yqRX",
        "outputId": "8adf6045-2291-4737-ca52-2199a4505d45"
      },
      "execution_count": 13,
      "outputs": [
        {
          "output_type": "stream",
          "name": "stdout",
          "text": [
            "[1, 2, 3, 4]\n",
            "[2, 3, 4]\n"
          ]
        }
      ]
    },
    {
      "cell_type": "code",
      "source": [
        "my_list = [1, 2, 3, 4]\n",
        "my_list.clear()   #clear()\n",
        "print(my_list)"
      ],
      "metadata": {
        "colab": {
          "base_uri": "https://localhost:8080/"
        },
        "id": "7y4mDnA9y46o",
        "outputId": "a12d83ec-8db0-49c2-fb76-c22f283a3820"
      },
      "execution_count": 14,
      "outputs": [
        {
          "output_type": "stream",
          "name": "stdout",
          "text": [
            "[]\n"
          ]
        }
      ]
    },
    {
      "cell_type": "code",
      "source": [
        "my_list = [1, 2, 3, 4, 3, 5, 5]\n",
        "index_value = my_list.index(3)   #index(value, start, stop) -> index\n",
        "print(index_value)"
      ],
      "metadata": {
        "colab": {
          "base_uri": "https://localhost:8080/"
        },
        "id": "Qt2LwvtszZ7w",
        "outputId": "e00257df-1f01-4bc6-87f4-3cf4aa86a6dc"
      },
      "execution_count": 20,
      "outputs": [
        {
          "output_type": "stream",
          "name": "stdout",
          "text": [
            "2\n"
          ]
        }
      ]
    },
    {
      "cell_type": "code",
      "source": [
        "my_list = [1, 2, 3, 4, 3, 5, 5]\n",
        "print(my_list.count(3))  #count(value) : return number of repeatations of value in list\n",
        "print(my_list.count(5))"
      ],
      "metadata": {
        "colab": {
          "base_uri": "https://localhost:8080/"
        },
        "id": "y8tInGNIzm8X",
        "outputId": "db753a5c-bf1c-48ae-a231-0f1439f97b2d"
      },
      "execution_count": 25,
      "outputs": [
        {
          "output_type": "stream",
          "name": "stdout",
          "text": [
            "2\n",
            "2\n"
          ]
        }
      ]
    },
    {
      "cell_type": "code",
      "source": [
        "my_list = [1, 2, 3, 4, 3, 5, 5]\n",
        "my_list.sort()    #sort() -> accesding sorting\n",
        "print(my_list)\n",
        "\n",
        "my_list.sort(reverse=True)  #sort() : decending sorting\n",
        "print(my_list)\n"
      ],
      "metadata": {
        "colab": {
          "base_uri": "https://localhost:8080/"
        },
        "id": "ERXjWOhdz903",
        "outputId": "16b6a928-e810-441a-d1c3-1c6b369af041"
      },
      "execution_count": 30,
      "outputs": [
        {
          "output_type": "stream",
          "name": "stdout",
          "text": [
            "[1, 2, 3, 3, 4, 5, 5]\n",
            "[5, 5, 4, 3, 3, 2, 1]\n"
          ]
        }
      ]
    },
    {
      "cell_type": "code",
      "source": [
        "my_list = [1, 2, 3, 4, 3, 5, 5]\n",
        "my_list.reverse()   #reverse()\n",
        "print(my_list)"
      ],
      "metadata": {
        "colab": {
          "base_uri": "https://localhost:8080/"
        },
        "id": "Ejhu3w7v0wqZ",
        "outputId": "1600228c-f155-4d48-e18d-034bcd896d8b"
      },
      "execution_count": 32,
      "outputs": [
        {
          "output_type": "stream",
          "name": "stdout",
          "text": [
            "[5, 5, 3, 4, 3, 2, 1]\n"
          ]
        }
      ]
    },
    {
      "cell_type": "code",
      "source": [
        "my_list = [1, 2, 3, 4]\n",
        "copy_list = my_list.copy()  #copy() : clone the list\n",
        "print(copy_list)"
      ],
      "metadata": {
        "colab": {
          "base_uri": "https://localhost:8080/"
        },
        "id": "vv3UFice3aX0",
        "outputId": "6ad85fa7-5e73-47c0-8b7b-0ff40941f911"
      },
      "execution_count": 33,
      "outputs": [
        {
          "output_type": "stream",
          "name": "stdout",
          "text": [
            "[1, 2, 3, 4]\n"
          ]
        }
      ]
    },
    {
      "cell_type": "code",
      "source": [
        "my_list = [1, 2, 3, 4]\n",
        "my_list.clear()  #clear(): clear the list\n",
        "print(my_list)"
      ],
      "metadata": {
        "colab": {
          "base_uri": "https://localhost:8080/"
        },
        "id": "keadXEUI3rkL",
        "outputId": "1927719e-808e-410d-a266-9d97bc9c4af2"
      },
      "execution_count": 34,
      "outputs": [
        {
          "output_type": "stream",
          "name": "stdout",
          "text": [
            "[]\n"
          ]
        }
      ]
    },
    {
      "cell_type": "code",
      "source": [
        "my_list = [1, 2, 3, 4]\n",
        "del my_list[2]     #del : delete the element and variable\n",
        "print(my_list)\n",
        "\n",
        "del my_list[0:2]\n",
        "print(my_list)\n",
        "\n",
        "del my_list   #del : delete the list variable\n",
        "print(my_list)"
      ],
      "metadata": {
        "colab": {
          "base_uri": "https://localhost:8080/",
          "height": 211
        },
        "id": "Bj2pOi6U34D4",
        "outputId": "54eb92bd-1cfe-4977-f4e6-19038171a081"
      },
      "execution_count": 38,
      "outputs": [
        {
          "output_type": "stream",
          "name": "stdout",
          "text": [
            "[1, 2, 4]\n",
            "[4]\n"
          ]
        },
        {
          "output_type": "error",
          "ename": "NameError",
          "evalue": "name 'my_list' is not defined",
          "traceback": [
            "\u001b[0;31m---------------------------------------------------------------------------\u001b[0m",
            "\u001b[0;31mNameError\u001b[0m                                 Traceback (most recent call last)",
            "\u001b[0;32m<ipython-input-38-55c9b5fbbdf6>\u001b[0m in \u001b[0;36m<cell line: 0>\u001b[0;34m()\u001b[0m\n\u001b[1;32m      7\u001b[0m \u001b[0;34m\u001b[0m\u001b[0m\n\u001b[1;32m      8\u001b[0m \u001b[0;32mdel\u001b[0m \u001b[0mmy_list\u001b[0m\u001b[0;34m\u001b[0m\u001b[0;34m\u001b[0m\u001b[0m\n\u001b[0;32m----> 9\u001b[0;31m \u001b[0mprint\u001b[0m\u001b[0;34m(\u001b[0m\u001b[0mmy_list\u001b[0m\u001b[0;34m)\u001b[0m\u001b[0;34m\u001b[0m\u001b[0;34m\u001b[0m\u001b[0m\n\u001b[0m",
            "\u001b[0;31mNameError\u001b[0m: name 'my_list' is not defined"
          ]
        }
      ]
    },
    {
      "cell_type": "code",
      "source": [
        "my_list = [1, 2, 3, 4, 5]\n",
        "print(max(my_list))    #max(list) : max value from list\n",
        "print(min(my_list))    #min(list) : min value from list\n"
      ],
      "metadata": {
        "colab": {
          "base_uri": "https://localhost:8080/"
        },
        "id": "JmH3kq3F4KC0",
        "outputId": "fd8061e1-8e1c-4956-ca3e-2cf83fda4663"
      },
      "execution_count": 42,
      "outputs": [
        {
          "output_type": "stream",
          "name": "stdout",
          "text": [
            "5\n",
            "1\n"
          ]
        }
      ]
    },
    {
      "cell_type": "code",
      "source": [
        "my_list = [1, 2, 3, 4, 5]\n",
        "print(sum(my_list))   #sum(list) : sum all elements"
      ],
      "metadata": {
        "colab": {
          "base_uri": "https://localhost:8080/"
        },
        "id": "veuUkNhT41eZ",
        "outputId": "6a0b65e6-66a9-48fb-9223-cf1c0f01466f"
      },
      "execution_count": 43,
      "outputs": [
        {
          "output_type": "stream",
          "name": "stdout",
          "text": [
            "15\n"
          ]
        }
      ]
    },
    {
      "cell_type": "code",
      "source": [
        "list1 = [1, 2, 3]\n",
        "list2 = ['a', 'b', 'c']\n",
        "\n",
        "list3 = list(zip(list1, list2))   #zip(list1, list2): combine iterable object into list of tuples\n",
        "print(list3)"
      ],
      "metadata": {
        "colab": {
          "base_uri": "https://localhost:8080/"
        },
        "id": "KI8BcviU5WW0",
        "outputId": "93047b6e-6964-49bf-837b-2df922b9b814"
      },
      "execution_count": 48,
      "outputs": [
        {
          "output_type": "stream",
          "name": "stdout",
          "text": [
            "[(1, 'a'), (2, 'b'), (3, 'c')]\n"
          ]
        }
      ]
    },
    {
      "cell_type": "code",
      "source": [
        "my_list = [0, 1, 2]\n",
        "print(any(my_list)) #any(list): return True if any element having as True"
      ],
      "metadata": {
        "colab": {
          "base_uri": "https://localhost:8080/"
        },
        "id": "ejyAdxBv5rmu",
        "outputId": "63612917-2ed5-4b7b-f4a0-7aa368ba4fc7"
      },
      "execution_count": 50,
      "outputs": [
        {
          "output_type": "stream",
          "name": "stdout",
          "text": [
            "True\n"
          ]
        }
      ]
    },
    {
      "cell_type": "code",
      "source": [
        "my_list = [1, 1, 2]\n",
        "print(all(my_list)) #all(list) : return true if all true if any zero return false\n",
        "\n",
        "my_list = [0, 1, 2]\n",
        "print(all(my_list))"
      ],
      "metadata": {
        "colab": {
          "base_uri": "https://localhost:8080/"
        },
        "id": "w1J7ijIW6Sgd",
        "outputId": "f523fcb1-f048-4afc-dbe7-2f1c05e2e150"
      },
      "execution_count": 55,
      "outputs": [
        {
          "output_type": "stream",
          "name": "stdout",
          "text": [
            "True\n",
            "False\n"
          ]
        }
      ]
    },
    {
      "cell_type": "markdown",
      "source": [
        "#Summary of List\n",
        "- Modification Methods: append(), extend(), insert(), remove(), pop()\n",
        "- Utility Methods: index(), count(), sort(), reverse(), copy()\n",
        "- Other Operations: del, clear(), list(), zip(), any(), all()"
      ],
      "metadata": {
        "id": "DcGzuOtb7BrV"
      }
    },
    {
      "cell_type": "markdown",
      "source": [
        "#Nested List in Python"
      ],
      "metadata": {
        "id": "AdS2KlbP7cw_"
      }
    },
    {
      "cell_type": "code",
      "source": [
        "nested_list = [[1, 2, 3], [4, 5, 6], [7, 8, 9]]   #Accessting nested List\n",
        "print(nested_list[0])\n",
        "print(nested_list[1][2])"
      ],
      "metadata": {
        "colab": {
          "base_uri": "https://localhost:8080/"
        },
        "id": "NxznoP7k7o-a",
        "outputId": "ce151037-c363-480e-c9ed-690ea21e41b4"
      },
      "execution_count": 60,
      "outputs": [
        {
          "output_type": "stream",
          "name": "stdout",
          "text": [
            "[1, 2, 3]\n",
            "6\n"
          ]
        }
      ]
    },
    {
      "cell_type": "code",
      "source": [
        "nested_list = [[1, 2, 3], [4, 5, 6], [7, 8, 9]]   #Modify nested List\n",
        "nested_list[1][2] = 100\n",
        "print(nested_list)\n"
      ],
      "metadata": {
        "colab": {
          "base_uri": "https://localhost:8080/"
        },
        "id": "4yTvLphB7s2J",
        "outputId": "941af026-ca5d-4428-e78c-17942d9ae309"
      },
      "execution_count": 62,
      "outputs": [
        {
          "output_type": "stream",
          "name": "stdout",
          "text": [
            "[[1, 2, 3], [4, 5, 100], [7, 8, 9]]\n"
          ]
        }
      ]
    },
    {
      "cell_type": "code",
      "source": [
        "nested_list = [[1, 2, 3], [4, 5, 6], [7, 8, 9]]\n",
        "\n",
        "#adding elements in nested list\n",
        "nested_list.append([10, 11, 12])\n",
        "print(nested_list)\n",
        "\n",
        "#Adding an element to the second sublist\n",
        "nested_list[1].append(12)\n",
        "print(nested_list)"
      ],
      "metadata": {
        "colab": {
          "base_uri": "https://localhost:8080/"
        },
        "id": "Qf6bAL8M8LVr",
        "outputId": "2146855d-a25f-4502-f164-0cb7b49b1e3f"
      },
      "execution_count": 67,
      "outputs": [
        {
          "output_type": "stream",
          "name": "stdout",
          "text": [
            "[[1, 2, 3], [4, 5, 6], [7, 8, 9], [10, 11, 12]]\n",
            "[[1, 2, 3], [4, 5, 6, 12], [7, 8, 9], [10, 11, 12]]\n"
          ]
        }
      ]
    },
    {
      "cell_type": "code",
      "source": [
        "nested_list = [[1, 2, 3], [4, 5, 6], [7, 8, 9]]\n",
        "# Removing the second list (index 1)\n",
        "nested_list.pop()\n",
        "print(nested_list)\n",
        "\n",
        "# Removing the last element from the first sublist\n",
        "nested_list[0].pop()\n",
        "print(nested_list[0])"
      ],
      "metadata": {
        "colab": {
          "base_uri": "https://localhost:8080/"
        },
        "id": "0SE06hku8crp",
        "outputId": "3c456458-70cc-40e1-f313-bd749c695236"
      },
      "execution_count": 70,
      "outputs": [
        {
          "output_type": "stream",
          "name": "stdout",
          "text": [
            "[[1, 2, 3], [4, 5, 6]]\n",
            "[1, 2]\n"
          ]
        }
      ]
    },
    {
      "cell_type": "code",
      "source": [
        "# Iterating through the nested list\n",
        "nested_list = [[1, 2, 3], [4, 5, 6], [7, 8, 9]]\n",
        "\n",
        "for row in nested_list:\n",
        "  for col in row:\n",
        "    print(col, end=' ')\n"
      ],
      "metadata": {
        "colab": {
          "base_uri": "https://localhost:8080/"
        },
        "id": "MEgCHQ1n9Ub5",
        "outputId": "d615a1cc-6fd5-434c-dfdf-c434cf1065e4"
      },
      "execution_count": 72,
      "outputs": [
        {
          "output_type": "stream",
          "name": "stdout",
          "text": [
            "1 2 3 4 5 6 7 8 9 "
          ]
        }
      ]
    },
    {
      "cell_type": "code",
      "source": [
        "#List Comprehension with Nested Lists\n",
        "nested_list = [[1, 2, 3], [4, 5, 6], [7, 8, 9]]\n",
        "\n",
        "[element for row in nested_list for element in row if element % 2 ==0] #All even element"
      ],
      "metadata": {
        "colab": {
          "base_uri": "https://localhost:8080/"
        },
        "id": "P9u1-i5W9j06",
        "outputId": "7c54e41e-ffaf-4f4e-ca29-e9fa5f27eb04"
      },
      "execution_count": 76,
      "outputs": [
        {
          "output_type": "execute_result",
          "data": {
            "text/plain": [
              "[2, 4, 6, 8]"
            ]
          },
          "metadata": {},
          "execution_count": 76
        }
      ]
    },
    {
      "cell_type": "markdown",
      "source": [
        "#Tuple :\n",
        "- Immutable\n",
        "- Ordered\n",
        "- Heterogeneous\n",
        "- Hashable"
      ],
      "metadata": {
        "id": "kk845FuH_a9b"
      }
    },
    {
      "cell_type": "code",
      "source": [
        "my_tuple = (1, 2, 3, 4, 2, 2, 5)\n",
        "print(my_tuple.count(2))   #count(value)"
      ],
      "metadata": {
        "colab": {
          "base_uri": "https://localhost:8080/"
        },
        "id": "yzIugyA1_dzg",
        "outputId": "c9d38472-e7e0-43ca-96f8-701396808460"
      },
      "execution_count": 79,
      "outputs": [
        {
          "output_type": "stream",
          "name": "stdout",
          "text": [
            "3\n"
          ]
        }
      ]
    },
    {
      "cell_type": "code",
      "source": [
        "my_tuple = (10, 20, 30, 40, 50)\n",
        "print(my_tuple.index(20))\n",
        "print(my_tuple.index(80)) # value not present in list then give error :'tuple.index(x): x not in tuple'\n"
      ],
      "metadata": {
        "colab": {
          "base_uri": "https://localhost:8080/",
          "height": 193
        },
        "id": "JfYMrkPE_sq6",
        "outputId": "a73101b2-14ec-4c3d-94fe-a47027f2b210"
      },
      "execution_count": 82,
      "outputs": [
        {
          "output_type": "stream",
          "name": "stdout",
          "text": [
            "1\n"
          ]
        },
        {
          "output_type": "error",
          "ename": "ValueError",
          "evalue": "tuple.index(x): x not in tuple",
          "traceback": [
            "\u001b[0;31m---------------------------------------------------------------------------\u001b[0m",
            "\u001b[0;31mValueError\u001b[0m                                Traceback (most recent call last)",
            "\u001b[0;32m<ipython-input-82-8418f576c4dc>\u001b[0m in \u001b[0;36m<cell line: 0>\u001b[0;34m()\u001b[0m\n\u001b[1;32m      1\u001b[0m \u001b[0mmy_tuple\u001b[0m \u001b[0;34m=\u001b[0m \u001b[0;34m(\u001b[0m\u001b[0;36m10\u001b[0m\u001b[0;34m,\u001b[0m \u001b[0;36m20\u001b[0m\u001b[0;34m,\u001b[0m \u001b[0;36m30\u001b[0m\u001b[0;34m,\u001b[0m \u001b[0;36m40\u001b[0m\u001b[0;34m,\u001b[0m \u001b[0;36m50\u001b[0m\u001b[0;34m)\u001b[0m\u001b[0;34m\u001b[0m\u001b[0;34m\u001b[0m\u001b[0m\n\u001b[1;32m      2\u001b[0m \u001b[0mprint\u001b[0m\u001b[0;34m(\u001b[0m\u001b[0mmy_tuple\u001b[0m\u001b[0;34m.\u001b[0m\u001b[0mindex\u001b[0m\u001b[0;34m(\u001b[0m\u001b[0;36m20\u001b[0m\u001b[0;34m)\u001b[0m\u001b[0;34m)\u001b[0m\u001b[0;34m\u001b[0m\u001b[0;34m\u001b[0m\u001b[0m\n\u001b[0;32m----> 3\u001b[0;31m \u001b[0mprint\u001b[0m\u001b[0;34m(\u001b[0m\u001b[0mmy_tuple\u001b[0m\u001b[0;34m.\u001b[0m\u001b[0mindex\u001b[0m\u001b[0;34m(\u001b[0m\u001b[0;36m80\u001b[0m\u001b[0;34m)\u001b[0m\u001b[0;34m)\u001b[0m \u001b[0;31m# value not present in list then give error :'tuple.index(x): x not in tuple'\u001b[0m\u001b[0;34m\u001b[0m\u001b[0;34m\u001b[0m\u001b[0m\n\u001b[0m",
            "\u001b[0;31mValueError\u001b[0m: tuple.index(x): x not in tuple"
          ]
        }
      ]
    },
    {
      "cell_type": "code",
      "source": [
        "my_tuple = (1, 2, 3, 4)\n",
        "print(my_tuple[1])   # =accsessing element from tuple"
      ],
      "metadata": {
        "colab": {
          "base_uri": "https://localhost:8080/"
        },
        "id": "IDQfl5YyAERe",
        "outputId": "58a63af5-9eb4-48ab-8264-18a595ef518a"
      },
      "execution_count": 84,
      "outputs": [
        {
          "output_type": "stream",
          "name": "stdout",
          "text": [
            "2\n"
          ]
        }
      ]
    },
    {
      "cell_type": "code",
      "source": [
        "tuple1 = (1, 2, 3)\n",
        "tuple2 = (4, 5, 6)\n",
        "\n",
        "tuple3 = tuple1 + tuple2;  #concate tuples\n",
        "print(tuple3)\n",
        "\n",
        "print(tuple3*3)  #Repeating 3 times"
      ],
      "metadata": {
        "colab": {
          "base_uri": "https://localhost:8080/"
        },
        "id": "cZl1tdLpAast",
        "outputId": "7255c37a-de78-411d-88d0-335deaa7e396"
      },
      "execution_count": 89,
      "outputs": [
        {
          "output_type": "stream",
          "name": "stdout",
          "text": [
            "(1, 2, 3, 4, 5, 6)\n",
            "(1, 2, 3, 4, 5, 6, 1, 2, 3, 4, 5, 6, 1, 2, 3, 4, 5, 6)\n"
          ]
        }
      ]
    },
    {
      "cell_type": "code",
      "source": [
        "my_tuple = (10, 20, 30, 40, 50)\n",
        "sclice_tuple = my_tuple[2:4] #Slicing Tuples\n",
        "print(sclice_tuple)"
      ],
      "metadata": {
        "colab": {
          "base_uri": "https://localhost:8080/"
        },
        "id": "0ABEhgNYAtUb",
        "outputId": "7e3287fc-d4fa-4da4-e513-2a85de62c4a1"
      },
      "execution_count": 90,
      "outputs": [
        {
          "output_type": "stream",
          "name": "stdout",
          "text": [
            "(30, 40)\n"
          ]
        }
      ]
    },
    {
      "cell_type": "code",
      "source": [
        "my_tuple = (10, 20, 30, 40, 50)\n",
        "print(40 in my_tuple)\n",
        "print(50 in my_tuple)  #checking the membership\n",
        "print(140 in my_tuple)\n",
        "\n",
        "print('length :',len(my_tuple)) #length of tuple\n"
      ],
      "metadata": {
        "colab": {
          "base_uri": "https://localhost:8080/"
        },
        "id": "N7LXrDCWBWvZ",
        "outputId": "8dc0907c-04d3-4c89-d8d5-cb1551e4fc62"
      },
      "execution_count": 97,
      "outputs": [
        {
          "output_type": "stream",
          "name": "stdout",
          "text": [
            "True\n",
            "True\n",
            "False\n",
            "length : 5\n"
          ]
        }
      ]
    },
    {
      "cell_type": "code",
      "source": [
        "nested_tuple = ((1, 2), (3, 4), (5, 6))\n",
        "print(nested_tuple[1])\n",
        "print(nested_tuple[1][1])"
      ],
      "metadata": {
        "colab": {
          "base_uri": "https://localhost:8080/"
        },
        "id": "7fpvn6GjBidf",
        "outputId": "dac840ec-e480-4141-a408-5495cb6a53bb"
      },
      "execution_count": 103,
      "outputs": [
        {
          "output_type": "stream",
          "name": "stdout",
          "text": [
            "(3, 4)\n",
            "4\n"
          ]
        }
      ]
    },
    {
      "cell_type": "code",
      "source": [
        "my_tuple = (5, 2, 9, 1)\n",
        "sorted_tuple = sorted(my_tuple)  #sorted the tuples's elements and return list bcz tuple has not modified\n",
        "print(my_tuple)\n",
        "print(sorted_tuple)"
      ],
      "metadata": {
        "colab": {
          "base_uri": "https://localhost:8080/"
        },
        "id": "Rds9dHXZCI57",
        "outputId": "c2403a75-3bed-4828-a531-b29e73cb09e7"
      },
      "execution_count": 108,
      "outputs": [
        {
          "output_type": "stream",
          "name": "stdout",
          "text": [
            "(5, 2, 9, 1)\n",
            "[1, 2, 5, 9]\n"
          ]
        }
      ]
    },
    {
      "cell_type": "code",
      "source": [
        "my_tuple = (5, 2, 9, 1)\n",
        "list1 = list(my_tuple) #convert from tuple to list\n",
        "tuple1 = tuple(list1) #convert from list to tuple\n",
        "\n",
        "print(list1)\n",
        "print(tuple1)"
      ],
      "metadata": {
        "colab": {
          "base_uri": "https://localhost:8080/"
        },
        "id": "l6Wrciv3CnIn",
        "outputId": "9bd2943a-e0ab-42b3-ead9-5ecb0b8f0b05"
      },
      "execution_count": 111,
      "outputs": [
        {
          "output_type": "stream",
          "name": "stdout",
          "text": [
            "[5, 2, 9, 1]\n",
            "(5, 2, 9, 1)\n"
          ]
        }
      ]
    },
    {
      "cell_type": "markdown",
      "source": [
        "#Summary of Tuple Methods and Operations\n",
        "- count(): Returns the number of occurrences of a specified value.\n",
        "- index(): Returns the index of the first occurrence of a value.\n",
        "- Creating and Accessing: Tuples are created with parentheses and accessed using indices.\n",
        "- Concatenation (+) and Repetition (*): You can concatenate or repeat tuples.\n",
        "- Slicing: Extract a subset of the tuple using slicing syntax.\n",
        "- Membership (in / not in): Check if an element is in the tuple.\n",
        "- len(): Get the length (number of elements) of a tuple.\n",
        "- Nested Tuples: Tuples can contain other tuples and can be accessed using multiple indices.\n",
        "- sorted(): Sort a tuple into a new list (since tuples are immutable).\n",
        "- list() and tuple() Conversion: Convert a tuple to a list and vice versa.\n",
        "\n",
        "![image.png](data:image/png;base64,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)"
      ],
      "metadata": {
        "id": "EStzsIKHEfBk"
      }
    },
    {
      "cell_type": "markdown",
      "source": [
        "#Set\n",
        "A set in Python is an unordered collection of unique elements. It is similar to a list or a tuple but with no duplicate values and without any specific order. Sets are useful when you need to ensure that elements are unique, and you don't care about their order."
      ],
      "metadata": {
        "id": "AIKFOaxFFrsE"
      }
    },
    {
      "cell_type": "code",
      "source": [
        "my_set = {1, 2, 3}\n",
        "my_set.add(4)  #add(value) if not available then insert element\n",
        "print(my_set)\n",
        "\n",
        "my_set.add(1)\n",
        "print(my_set)"
      ],
      "metadata": {
        "colab": {
          "base_uri": "https://localhost:8080/"
        },
        "id": "wON1vvo9FuV0",
        "outputId": "f98f7be2-dc0f-4048-d823-ee2617e174f3"
      },
      "execution_count": 114,
      "outputs": [
        {
          "output_type": "stream",
          "name": "stdout",
          "text": [
            "{1, 2, 3, 4}\n",
            "{1, 2, 3, 4}\n"
          ]
        }
      ]
    },
    {
      "cell_type": "code",
      "source": [
        "my_set = {1, 2, 3, 4}\n",
        "my_set.remove(4)  #remove(value) : if available then remove otherwise erro will occurs\n",
        "print(my_set)\n",
        "\n",
        "my_set.remove(10)\n",
        "print(my_set)"
      ],
      "metadata": {
        "colab": {
          "base_uri": "https://localhost:8080/",
          "height": 211
        },
        "id": "XHUuUlhTG1fR",
        "outputId": "53b609bc-c323-48ae-d63f-001386c65906"
      },
      "execution_count": 117,
      "outputs": [
        {
          "output_type": "stream",
          "name": "stdout",
          "text": [
            "{1, 2, 3}\n"
          ]
        },
        {
          "output_type": "error",
          "ename": "KeyError",
          "evalue": "10",
          "traceback": [
            "\u001b[0;31m---------------------------------------------------------------------------\u001b[0m",
            "\u001b[0;31mKeyError\u001b[0m                                  Traceback (most recent call last)",
            "\u001b[0;32m<ipython-input-117-6a2fd6092768>\u001b[0m in \u001b[0;36m<cell line: 0>\u001b[0;34m()\u001b[0m\n\u001b[1;32m      3\u001b[0m \u001b[0mprint\u001b[0m\u001b[0;34m(\u001b[0m\u001b[0mmy_set\u001b[0m\u001b[0;34m)\u001b[0m\u001b[0;34m\u001b[0m\u001b[0;34m\u001b[0m\u001b[0m\n\u001b[1;32m      4\u001b[0m \u001b[0;34m\u001b[0m\u001b[0m\n\u001b[0;32m----> 5\u001b[0;31m \u001b[0mmy_set\u001b[0m\u001b[0;34m.\u001b[0m\u001b[0mremove\u001b[0m\u001b[0;34m(\u001b[0m\u001b[0;36m10\u001b[0m\u001b[0;34m)\u001b[0m\u001b[0;34m\u001b[0m\u001b[0;34m\u001b[0m\u001b[0m\n\u001b[0m\u001b[1;32m      6\u001b[0m \u001b[0mprint\u001b[0m\u001b[0;34m(\u001b[0m\u001b[0mmy_set\u001b[0m\u001b[0;34m)\u001b[0m\u001b[0;34m\u001b[0m\u001b[0;34m\u001b[0m\u001b[0m\n",
            "\u001b[0;31mKeyError\u001b[0m: 10"
          ]
        }
      ]
    },
    {
      "cell_type": "code",
      "source": [
        "my_set = {1, 2, 3, 4}\n",
        "my_set.discard(4)  #discard(value) : if available then remove otherwise not give any error\n",
        "print(my_set)\n",
        "\n",
        "my_set.discard(10)\n",
        "print(my_set)"
      ],
      "metadata": {
        "colab": {
          "base_uri": "https://localhost:8080/"
        },
        "id": "JFGLQnT7HLof",
        "outputId": "bb8c12cf-9b54-421d-fa7a-e4da8dfe6982"
      },
      "execution_count": 118,
      "outputs": [
        {
          "output_type": "stream",
          "name": "stdout",
          "text": [
            "{1, 2, 3}\n",
            "{1, 2, 3}\n"
          ]
        }
      ]
    },
    {
      "cell_type": "code",
      "source": [
        "my_set = {1, 2, 3, 4}\n",
        "print(my_set.pop()) #pop() : remove random elements\n"
      ],
      "metadata": {
        "colab": {
          "base_uri": "https://localhost:8080/"
        },
        "id": "uesMnLV8Hq_z",
        "outputId": "1a353eb1-e4b9-44ac-d159-ffde105bbbdb"
      },
      "execution_count": 121,
      "outputs": [
        {
          "output_type": "stream",
          "name": "stdout",
          "text": [
            "1\n"
          ]
        }
      ]
    },
    {
      "cell_type": "code",
      "source": [
        "my_set = {1, 2, 3, 4}\n",
        "my_set.clear()  #clear() remove all elements from set\n",
        "print(my_set)"
      ],
      "metadata": {
        "colab": {
          "base_uri": "https://localhost:8080/"
        },
        "id": "NVEwA1XZHzDf",
        "outputId": "fc42778c-79f2-464e-907b-f572aadf6cab"
      },
      "execution_count": 123,
      "outputs": [
        {
          "output_type": "stream",
          "name": "stdout",
          "text": [
            "set()\n"
          ]
        }
      ]
    },
    {
      "cell_type": "code",
      "source": [
        "my_set = {1, 2, 3, 4}\n",
        "copy_set = my_set.copy()\n",
        "print(copy_set)"
      ],
      "metadata": {
        "colab": {
          "base_uri": "https://localhost:8080/"
        },
        "id": "1idFo5wYIGOY",
        "outputId": "92c59bb2-f9cf-4b82-8f2e-dcf2cbe32f9b"
      },
      "execution_count": 124,
      "outputs": [
        {
          "output_type": "stream",
          "name": "stdout",
          "text": [
            "{1, 2, 3, 4}\n"
          ]
        }
      ]
    },
    {
      "cell_type": "code",
      "source": [
        "set1 = {1, 2, 3}\n",
        "set2 = {3, 4, 5}\n",
        "\n",
        "print(set1.union(set2)) #union() : combile all elements\n",
        "print(set1 | set2) # | : combile all elements"
      ],
      "metadata": {
        "colab": {
          "base_uri": "https://localhost:8080/"
        },
        "id": "q0VA2onNIjBK",
        "outputId": "d55057ed-1e8a-4615-d378-e56f5d46fabc"
      },
      "execution_count": 126,
      "outputs": [
        {
          "output_type": "stream",
          "name": "stdout",
          "text": [
            "{1, 2, 3, 4, 5}\n",
            "{1, 2, 3, 4, 5}\n"
          ]
        }
      ]
    },
    {
      "cell_type": "code",
      "source": [
        "set1 = {1, 2, 3}\n",
        "set2 = {3, 4, 5}\n",
        "\n",
        "print(set1.intersection(set2)) #intersection() : common elements\n",
        "print(set1 & set2) # & :common elements"
      ],
      "metadata": {
        "colab": {
          "base_uri": "https://localhost:8080/"
        },
        "id": "e6Kslqj8Ip3A",
        "outputId": "bf468a5d-89a2-4180-9979-533f755c28b0"
      },
      "execution_count": 127,
      "outputs": [
        {
          "output_type": "stream",
          "name": "stdout",
          "text": [
            "{3}\n",
            "{3}\n"
          ]
        }
      ]
    },
    {
      "cell_type": "code",
      "source": [
        "set1 = {1, 2, 3}\n",
        "set2 = {3, 4, 5}\n",
        "\n",
        "print(set1.difference(set2)) #difference() : Returns a new set with elements from set1 not in set2\n",
        "print(set1 - set2) # - :common elements"
      ],
      "metadata": {
        "colab": {
          "base_uri": "https://localhost:8080/"
        },
        "id": "5pdUTi8QJCXY",
        "outputId": "b699dc61-ebcf-45ce-ba3e-f6d21fd4865a"
      },
      "execution_count": 128,
      "outputs": [
        {
          "output_type": "stream",
          "name": "stdout",
          "text": [
            "{1, 2}\n",
            "{1, 2}\n"
          ]
        }
      ]
    },
    {
      "cell_type": "code",
      "source": [
        "set1 = {1, 2, 3}\n",
        "set2 = {3, 4, 5}\n",
        "print(set1.symmetric_difference(set2)) # symmetric_difference() : Returns a set with exclusive elements\n",
        "print(set1 ^ set2) # ^ : Returns a set with exclusive elements"
      ],
      "metadata": {
        "colab": {
          "base_uri": "https://localhost:8080/"
        },
        "id": "gjE1GduIJQjF",
        "outputId": "ae735031-5a64-4322-f397-2f4a5468e7b6"
      },
      "execution_count": 131,
      "outputs": [
        {
          "output_type": "stream",
          "name": "stdout",
          "text": [
            "{1, 2, 4, 5}\n",
            "{1, 2, 4, 5}\n"
          ]
        }
      ]
    },
    {
      "cell_type": "code",
      "source": [
        "set1 = {1, 2, 3}\n",
        "set2 = {1, 2, 3, 4, 5}\n",
        "\n",
        "print(set1.issubset(set2))  #issubset() Checks if set1 is a subset of set2\n",
        "print(set2.issubset(set1))"
      ],
      "metadata": {
        "colab": {
          "base_uri": "https://localhost:8080/"
        },
        "id": "ggsT35y1JVmb",
        "outputId": "009efffb-3c97-489c-9c4e-4fbcdcaed176"
      },
      "execution_count": 133,
      "outputs": [
        {
          "output_type": "stream",
          "name": "stdout",
          "text": [
            "True\n",
            "False\n"
          ]
        }
      ]
    },
    {
      "cell_type": "code",
      "source": [
        "set1 = {1, 2, 3, 4, 5}\n",
        "set2 = {1, 2, 3}\n",
        "\n",
        "print(set1.issuperset(set2)) #issuperset() : Checks if set1 is a superset of set2\n",
        "print(set2.issuperset(set1))"
      ],
      "metadata": {
        "colab": {
          "base_uri": "https://localhost:8080/"
        },
        "id": "qwyqU-xHJ5p1",
        "outputId": "6f0c19ea-7b88-4efd-b4be-2f5e88d4da80"
      },
      "execution_count": 135,
      "outputs": [
        {
          "output_type": "stream",
          "name": "stdout",
          "text": [
            "True\n",
            "False\n"
          ]
        }
      ]
    },
    {
      "cell_type": "code",
      "source": [
        "set1 = {1, 2, 3}\n",
        "set2 = {4, 5, 6}\n",
        "\n",
        "print(set1.isdisjoint(set2))"
      ],
      "metadata": {
        "colab": {
          "base_uri": "https://localhost:8080/"
        },
        "id": "8HOOTi-mKPPE",
        "outputId": "9279ccfd-d888-4dda-f853-661722073804"
      },
      "execution_count": 136,
      "outputs": [
        {
          "output_type": "stream",
          "name": "stdout",
          "text": [
            "True\n"
          ]
        }
      ]
    },
    {
      "cell_type": "code",
      "source": [
        "my_set = {1, 2, 3}\n",
        "\n",
        "frozen_set = frozenset(my_set); #frozenset : make unmodifiable set\n",
        "print(my_set)\n",
        "my_set.add(4)\n",
        "print(my_set)\n",
        "\n",
        "frozen_set.add(4)\n",
        "print(frozen_set)"
      ],
      "metadata": {
        "colab": {
          "base_uri": "https://localhost:8080/",
          "height": 228
        },
        "id": "18_KD-eBKhNL",
        "outputId": "365598c8-c3b9-47cd-c9ec-3c1a2679ab0a"
      },
      "execution_count": 139,
      "outputs": [
        {
          "output_type": "stream",
          "name": "stdout",
          "text": [
            "{1, 2, 3}\n",
            "{1, 2, 3, 4}\n"
          ]
        },
        {
          "output_type": "error",
          "ename": "AttributeError",
          "evalue": "'frozenset' object has no attribute 'add'",
          "traceback": [
            "\u001b[0;31m---------------------------------------------------------------------------\u001b[0m",
            "\u001b[0;31mAttributeError\u001b[0m                            Traceback (most recent call last)",
            "\u001b[0;32m<ipython-input-139-8b5f89e30ca7>\u001b[0m in \u001b[0;36m<cell line: 0>\u001b[0;34m()\u001b[0m\n\u001b[1;32m      6\u001b[0m \u001b[0mprint\u001b[0m\u001b[0;34m(\u001b[0m\u001b[0mmy_set\u001b[0m\u001b[0;34m)\u001b[0m\u001b[0;34m\u001b[0m\u001b[0;34m\u001b[0m\u001b[0m\n\u001b[1;32m      7\u001b[0m \u001b[0;34m\u001b[0m\u001b[0m\n\u001b[0;32m----> 8\u001b[0;31m \u001b[0mfrozen_set\u001b[0m\u001b[0;34m.\u001b[0m\u001b[0madd\u001b[0m\u001b[0;34m(\u001b[0m\u001b[0;36m4\u001b[0m\u001b[0;34m)\u001b[0m\u001b[0;34m\u001b[0m\u001b[0;34m\u001b[0m\u001b[0m\n\u001b[0m\u001b[1;32m      9\u001b[0m \u001b[0mprint\u001b[0m\u001b[0;34m(\u001b[0m\u001b[0mfrozen_set\u001b[0m\u001b[0;34m)\u001b[0m\u001b[0;34m\u001b[0m\u001b[0;34m\u001b[0m\u001b[0m\n",
            "\u001b[0;31mAttributeError\u001b[0m: 'frozenset' object has no attribute 'add'"
          ]
        }
      ]
    },
    {
      "cell_type": "markdown",
      "source": [
        "#Dict:\n",
        "A dictionary in Python is an unordered collection of key-value pairs. Each key in a dictionary must be unique, and it maps to a specific value. Dictionaries are very useful when you need to associate pieces of data with a specific identifier (the key)."
      ],
      "metadata": {
        "id": "5XZWCpcsTSFv"
      }
    },
    {
      "cell_type": "code",
      "source": [
        "my_dict = {'a': 1, 'b': 2, 'c': 3}\n",
        "my_dict.clear()  #clear()\n",
        "print(my_dict)"
      ],
      "metadata": {
        "colab": {
          "base_uri": "https://localhost:8080/"
        },
        "id": "emq6sgQpTj00",
        "outputId": "20ef4dcc-4b3b-4da1-b1db-ade74164df44"
      },
      "execution_count": 140,
      "outputs": [
        {
          "output_type": "stream",
          "name": "stdout",
          "text": [
            "{}\n"
          ]
        }
      ]
    },
    {
      "cell_type": "code",
      "source": [
        "my_dict = {'a': 1, 'b': 2, 'c': 3}\n",
        "copy_dict = my_dict.copy()\n",
        "print(copy_dict)"
      ],
      "metadata": {
        "colab": {
          "base_uri": "https://localhost:8080/"
        },
        "id": "glEqW9HpTpRf",
        "outputId": "b7fe8ab2-271c-4059-e982-084ebc4adf71"
      },
      "execution_count": 141,
      "outputs": [
        {
          "output_type": "stream",
          "name": "stdout",
          "text": [
            "{'a': 1, 'b': 2, 'c': 3}\n"
          ]
        }
      ]
    },
    {
      "cell_type": "code",
      "source": [
        "keys = ['a', 'b', 'c']\n",
        "value = 0\n",
        "my_dicy = dict.fromkeys(keys, value) #fromkeys() : Creates a new dictionary with specified keys and a default value.\n",
        "print(my_dict)"
      ],
      "metadata": {
        "colab": {
          "base_uri": "https://localhost:8080/"
        },
        "id": "iFQtdvn2T1gO",
        "outputId": "609f18d2-4667-43c3-f846-1b37e301fca2"
      },
      "execution_count": 142,
      "outputs": [
        {
          "output_type": "stream",
          "name": "stdout",
          "text": [
            "{'a': 1, 'b': 2, 'c': 3}\n"
          ]
        }
      ]
    },
    {
      "cell_type": "code",
      "source": [
        "my_dict = {'a': 1, 'b': 2, 'c': 3}\n",
        "value = my_dict.get('a')\n",
        "print(value)\n",
        "\n",
        "value_not_found = my_dict.get('d', 'not foud key')  # default value if key not present\n",
        "print(value_not_found)"
      ],
      "metadata": {
        "colab": {
          "base_uri": "https://localhost:8080/"
        },
        "id": "Minp8OIfUMi5",
        "outputId": "14ed95a7-b697-4970-9c29-c474f7754392"
      },
      "execution_count": 144,
      "outputs": [
        {
          "output_type": "stream",
          "name": "stdout",
          "text": [
            "1\n",
            "not foud key\n"
          ]
        }
      ]
    },
    {
      "cell_type": "code",
      "source": [
        "my_dict = {'a': 1, 'b': 2, 'c': 3}\n",
        "items = my_dict.items()\n",
        "print(items)\n",
        "\n",
        "print(list(items)) #converting into list"
      ],
      "metadata": {
        "colab": {
          "base_uri": "https://localhost:8080/"
        },
        "id": "U3E9mXS_Umg9",
        "outputId": "d232b915-f58c-497a-d609-d3a615b18cf6"
      },
      "execution_count": 146,
      "outputs": [
        {
          "output_type": "stream",
          "name": "stdout",
          "text": [
            "dict_items([('a', 1), ('b', 2), ('c', 3)])\n",
            "[('a', 1), ('b', 2), ('c', 3)]\n"
          ]
        }
      ]
    },
    {
      "cell_type": "code",
      "source": [
        "my_dict = {'a': 1, 'b': 2, 'c': 3}\n",
        "keys = my_dict.keys()   # returning keys\n",
        "print(keys)\n",
        "print(list(keys))"
      ],
      "metadata": {
        "colab": {
          "base_uri": "https://localhost:8080/"
        },
        "id": "bOpzU6bYVKEs",
        "outputId": "2bb64f3d-3583-45e5-e2da-643a762e6911"
      },
      "execution_count": 148,
      "outputs": [
        {
          "output_type": "stream",
          "name": "stdout",
          "text": [
            "dict_keys(['a', 'b', 'c'])\n",
            "['a', 'b', 'c']\n"
          ]
        }
      ]
    },
    {
      "cell_type": "code",
      "source": [
        "my_dict = {'a': 1, 'b': 2, 'c': 3}\n",
        "\n",
        "value = my_dict.pop('c') #pop()  delete from dict with specified key if not present give error, in this case we can handle with default value\n",
        "print(value)\n",
        "print(my_dict)\n",
        "\n",
        "value = my_dict.pop('d', 'not found key')\n",
        "print(value)"
      ],
      "metadata": {
        "colab": {
          "base_uri": "https://localhost:8080/"
        },
        "id": "QxZ85u1qVjX8",
        "outputId": "11627c8b-6c64-4be6-b474-abcc5b970361"
      },
      "execution_count": 154,
      "outputs": [
        {
          "output_type": "stream",
          "name": "stdout",
          "text": [
            "3\n",
            "{'a': 1, 'b': 2}\n",
            "not found key\n"
          ]
        }
      ]
    },
    {
      "cell_type": "code",
      "source": [
        "my_dict = {'a': 1, 'b': 2, 'c': 3}\n",
        "my_dict.popitem()  #popitem() : removes and returns the last inserted item\n",
        "print(my_dict)"
      ],
      "metadata": {
        "colab": {
          "base_uri": "https://localhost:8080/"
        },
        "id": "-0OR4T5XWBr8",
        "outputId": "e228eb55-728d-4b9e-aa28-3e6e87ed44eb"
      },
      "execution_count": 155,
      "outputs": [
        {
          "output_type": "stream",
          "name": "stdout",
          "text": [
            "{'a': 1, 'b': 2}\n"
          ]
        }
      ]
    },
    {
      "cell_type": "code",
      "source": [
        "my_dict = {'a': 1, 'b': 2}\n",
        "\n",
        "my_dict.setdefault('c', 3) #if not present it inserted with default value\n",
        "print(my_dict)\n",
        "\n",
        "my_dict.setdefault('b', 99) # key present so will not updated with default value\n",
        "print(my_dict)"
      ],
      "metadata": {
        "colab": {
          "base_uri": "https://localhost:8080/"
        },
        "id": "GLAEZuuVW8VG",
        "outputId": "352831dd-0116-4f05-f2eb-c523d20f7a04"
      },
      "execution_count": 159,
      "outputs": [
        {
          "output_type": "stream",
          "name": "stdout",
          "text": [
            "{'a': 1, 'b': 2, 'c': 3}\n",
            "{'a': 1, 'b': 2, 'c': 3}\n"
          ]
        }
      ]
    },
    {
      "cell_type": "code",
      "source": [
        "my_dict = {'a': 1, 'b': 2}\n",
        "update_dict = {'b': 3, 'c': 4}\n",
        "my_dict.update(update_dict)  #update() update one dict from another dict\n",
        "print(my_dict)\n",
        "\n",
        "my_dict.update({'d' : 23})\n",
        "print(my_dict)"
      ],
      "metadata": {
        "colab": {
          "base_uri": "https://localhost:8080/"
        },
        "id": "rEWYflEeXbsf",
        "outputId": "e3956124-9824-4777-990a-db4b7e7b24ef"
      },
      "execution_count": 162,
      "outputs": [
        {
          "output_type": "stream",
          "name": "stdout",
          "text": [
            "{'a': 1, 'b': 3, 'c': 4}\n",
            "{'a': 1, 'b': 3, 'c': 4, 'd': 23}\n"
          ]
        }
      ]
    },
    {
      "cell_type": "code",
      "source": [
        "my_dict = {'a': 1, 'b': 2, 'c': 3}\n",
        "values = my_dict.values() # return all values from dict\n",
        "print(values)\n",
        "\n",
        "list_values = list(values)\n",
        "print(list_values)"
      ],
      "metadata": {
        "colab": {
          "base_uri": "https://localhost:8080/"
        },
        "id": "bCgoKgTlYCgf",
        "outputId": "db864a9a-60f9-40b0-e144-b1f51f11f070"
      },
      "execution_count": 164,
      "outputs": [
        {
          "output_type": "stream",
          "name": "stdout",
          "text": [
            "dict_values([1, 2, 3])\n",
            "[1, 2, 3]\n"
          ]
        }
      ]
    },
    {
      "cell_type": "code",
      "source": [
        "my_dict = {'a': 1, 'b': 2, 'c': 3}\n",
        "del my_dict['b']  #del key-value\n",
        "print(my_dict)"
      ],
      "metadata": {
        "colab": {
          "base_uri": "https://localhost:8080/"
        },
        "id": "iePSGTa8YiMm",
        "outputId": "2fc412a2-f04a-40c6-e780-b11b7715f89a"
      },
      "execution_count": 165,
      "outputs": [
        {
          "output_type": "stream",
          "name": "stdout",
          "text": [
            "{'a': 1, 'c': 3}\n"
          ]
        }
      ]
    },
    {
      "cell_type": "code",
      "source": [
        "my_dict = dict(a=1, b=2, c=3)\n",
        "print(my_dict)"
      ],
      "metadata": {
        "colab": {
          "base_uri": "https://localhost:8080/"
        },
        "id": "mQq2HFQ_ZGP7",
        "outputId": "6d2fd0d2-02bd-4939-e414-69e266d419a5"
      },
      "execution_count": 167,
      "outputs": [
        {
          "output_type": "stream",
          "name": "stdout",
          "text": [
            "{'a': 1, 'b': 2, 'c': 3}\n"
          ]
        }
      ]
    },
    {
      "cell_type": "code",
      "source": [
        "my_dict = {'a': 1, 'b': 2, 'c': 3}\n",
        "\n",
        "items = my_dict.items()\n",
        "keys = my_dict.keys()\n",
        "values = my_dict.values()\n",
        "\n",
        "print(items)\n",
        "print(keys)\n",
        "print(values)"
      ],
      "metadata": {
        "colab": {
          "base_uri": "https://localhost:8080/"
        },
        "id": "qjVUXw5JZdsf",
        "outputId": "ada3ac90-a08e-4a03-a2cf-6e990793d30f"
      },
      "execution_count": 168,
      "outputs": [
        {
          "output_type": "stream",
          "name": "stdout",
          "text": [
            "dict_items([('a', 1), ('b', 2), ('c', 3)])\n",
            "dict_keys(['a', 'b', 'c'])\n",
            "dict_values([1, 2, 3])\n"
          ]
        }
      ]
    },
    {
      "cell_type": "markdown",
      "source": [
        "# Project Overview:\n",
        "- List: We'll use a list to store all employee data and handle the dynamic nature of the data.\n",
        "- Tuple: We'll use a tuple to store employee records (since the record of an employee doesn't change once created).\n",
        "- Set: We'll use a set to store departments (to prevent duplicate department names).\n",
        "- Dictionary: We'll use a dictionary to store employee details, such as name, role, and salary, indexed by employee ID."
      ],
      "metadata": {
        "id": "GTvMtDNOaGcB"
      }
    },
    {
      "cell_type": "code",
      "source": [
        "# Set to store unique departments\n",
        "departments = set()\n",
        "\n",
        "# List to store all employee data (employee records as tuples)\n",
        "employees  = []\n",
        "\n",
        "# Dictionary to store employee details with employee_id as key\n",
        "employee_details = {}\n",
        "\n",
        "# Sample Employee Records\n",
        "employee_data = [\n",
        "    (101, 'Alice', 'Engineering', 'Software Engineer', 80000, True),\n",
        "    (102, 'Bob', 'Marketing', 'Marketing Manager', 75000, True),\n",
        "    (103, 'Charlie', 'Engineering', 'Data Scientist', 95000, True),\n",
        "    (104, 'David', 'HR', 'HR Manager', 65000, False)\n",
        "]\n",
        "\n",
        "for data in employee_data :\n",
        "  emp_id, name, dept, role, salary, is_active = data\n",
        "  employees.append(data)\n",
        "  departments.add(dept)\n",
        "\n",
        "  employee_details[emp_id] = {\n",
        "        'name': name,\n",
        "        'role': role,\n",
        "        'salary': salary,\n",
        "        'is_active': is_active\n",
        "  }\n",
        "\n",
        "\n",
        "print(\"Employee List:\")\n",
        "for emp in  employees:\n",
        "  print(emp)\n",
        "\n",
        "print(\"\\nUnique Departments:\")\n",
        "print(departments)\n",
        "\n",
        "print(\"\\nEmployee Details (Dictionary):\")\n",
        "for emp_id, details in employee_details.items():\n",
        "  print(f\"ID: {emp_id}, Name: {details['name']}, Role: {details['role']}, Salary: {details['salary']}\")\n"
      ],
      "metadata": {
        "colab": {
          "base_uri": "https://localhost:8080/"
        },
        "id": "G5RgwHaBaVKk",
        "outputId": "1aa96f6f-451e-4db4-da0a-103d59eff374"
      },
      "execution_count": 205,
      "outputs": [
        {
          "output_type": "stream",
          "name": "stdout",
          "text": [
            "Employee List:\n",
            "(101, 'Alice', 'Engineering', 'Software Engineer', 80000, True)\n",
            "(102, 'Bob', 'Marketing', 'Marketing Manager', 75000, True)\n",
            "(103, 'Charlie', 'Engineering', 'Data Scientist', 95000, True)\n",
            "(104, 'David', 'HR', 'HR Manager', 65000, False)\n",
            "\n",
            "Unique Departments:\n",
            "{'Marketing', 'HR', 'Engineering'}\n",
            "\n",
            "Employee Details (Dictionary):\n",
            "ID: 101, Name: Alice, Role: Software Engineer, Salary: 80000\n",
            "ID: 102, Name: Bob, Role: Marketing Manager, Salary: 75000\n",
            "ID: 103, Name: Charlie, Role: Data Scientist, Salary: 95000\n",
            "ID: 104, Name: David, Role: HR Manager, Salary: 65000\n"
          ]
        }
      ]
    },
    {
      "cell_type": "code",
      "source": [
        "#Function 1: Add New Employee\n",
        "def add_employee(emp_id, name, dept, role, salary, is_active):\n",
        "  if emp_id in employee_details:\n",
        "    return\n",
        "\n",
        "  employees.append((emp_id, name, dept, role, salary, is_active))\n",
        "  departments.add(dept)\n",
        "\n",
        "  employee_details[emp_id] = {\n",
        "        'name': name,\n",
        "        'role': role,\n",
        "        'salary': salary,\n",
        "        'is_active': is_active\n",
        "  }\n",
        "\n",
        "print(f'Employee \"{name}\" added successfully!')\n",
        "\n",
        "#calling to add new employee\n",
        "add_employee(105, 'Eva', 'Engineering', 'DevOps Engineer', 85000, False)"
      ],
      "metadata": {
        "colab": {
          "base_uri": "https://localhost:8080/"
        },
        "id": "R12AtX2ia6pb",
        "outputId": "7482a709-85c9-4e9e-b654-cf5028851924"
      },
      "execution_count": 206,
      "outputs": [
        {
          "output_type": "stream",
          "name": "stdout",
          "text": [
            "Employee \"David\" added successfully!\n"
          ]
        }
      ]
    },
    {
      "cell_type": "code",
      "source": [
        "#Function 2: Update Employee Status\n",
        "\n",
        "def update_employee_status(emp_id, status):\n",
        "  if emp_id not in employee_details:\n",
        "    print(f\"Employee ID {emp_id} not found!\")\n",
        "    return\n",
        "\n",
        "  employee_details[emp_id]['is_active'] = status\n",
        "  print(f\"Employee ID {emp_id} status updated to {'Active' if status else 'Inactive'}.\")\n",
        "\n",
        "\n",
        "# Update employee status\n",
        "update_employee_status(104, True)"
      ],
      "metadata": {
        "colab": {
          "base_uri": "https://localhost:8080/"
        },
        "id": "IoL5ZIBndHBj",
        "outputId": "ee24840a-e748-4ad8-abc1-a7f3f4bd395f"
      },
      "execution_count": 207,
      "outputs": [
        {
          "output_type": "stream",
          "name": "stdout",
          "text": [
            "Employee ID 104 status updated to Active.\n"
          ]
        }
      ]
    },
    {
      "cell_type": "code",
      "source": [
        "#Function 3: Get Employee Info by ID\n",
        "def get_employee_info(emp_id):\n",
        "  if emp_id not in employee_details:\n",
        "     print(f\"Employee ID {emp_id} not found!\")\n",
        "     return\n",
        "\n",
        "  details  = employee_details[emp_id]\n",
        "  print(f\"Employee ID: {emp_id}\")\n",
        "  print(f\"Name: {details['name']}\")\n",
        "  print(f\"Role: {details['role']}\")\n",
        "  print(f\"Salary: {details['salary']}\")\n",
        "  print(f\"Status: {'Active' if details['is_active'] else 'Inactive'}\")\n",
        "\n",
        "# Get information for a specific employee\n",
        "get_employee_info(101)"
      ],
      "metadata": {
        "colab": {
          "base_uri": "https://localhost:8080/"
        },
        "id": "bV7i0EwYfrQL",
        "outputId": "46d83f96-1bd6-414b-f87c-c35d75d6ecf2"
      },
      "execution_count": 208,
      "outputs": [
        {
          "output_type": "stream",
          "name": "stdout",
          "text": [
            "Employee ID: 101\n",
            "Name: Alice\n",
            "Role: Software Engineer\n",
            "Salary: 80000\n",
            "Status: Active\n"
          ]
        }
      ]
    },
    {
      "cell_type": "code",
      "source": [
        "#Function 4: List All Active Employees\n",
        "\n",
        "def list_active_employees():\n",
        "  print(\"Active Employees:\")\n",
        "  for emp_id, details in employee_details.items():\n",
        "    if details['is_active']  == True:\n",
        "      print(f\"ID: {emp_id}, Name: {details['name']}, Role: {details['role']}\")\n",
        "\n",
        "# List all active employees\n",
        "list_active_employees()\n"
      ],
      "metadata": {
        "colab": {
          "base_uri": "https://localhost:8080/"
        },
        "id": "2FLKURgof_We",
        "outputId": "adc53198-4e04-415c-8b23-941a23c01581"
      },
      "execution_count": 209,
      "outputs": [
        {
          "output_type": "stream",
          "name": "stdout",
          "text": [
            "Active Employees:\n",
            "ID: 101, Name: Alice, Role: Software Engineer\n",
            "ID: 102, Name: Bob, Role: Marketing Manager\n",
            "ID: 103, Name: Charlie, Role: Data Scientist\n",
            "ID: 104, Name: David, Role: HR Manager\n"
          ]
        }
      ]
    },
    {
      "cell_type": "code",
      "source": [
        "#Function 5: List All Departments\n",
        "\n",
        "def list_departments():\n",
        "    print(\"Departments in the Company:\")\n",
        "    for dept in departments:\n",
        "        print(dept)\n",
        "\n",
        "# List all departments\n",
        "list_departments()"
      ],
      "metadata": {
        "colab": {
          "base_uri": "https://localhost:8080/"
        },
        "id": "i883MWuwg41K",
        "outputId": "6a276f44-9aa2-4356-9e2e-a40287f8bdf3"
      },
      "execution_count": 222,
      "outputs": [
        {
          "output_type": "stream",
          "name": "stdout",
          "text": [
            "Departments in the Company:\n",
            "Marketing\n",
            "HR\n",
            "Engineering\n"
          ]
        }
      ]
    },
    {
      "cell_type": "markdown",
      "source": [
        "#Conclusion In this project, we:\n",
        "\n",
        "- Used Lists to store dynamic employee records.\n",
        "- Used Tuples to represent individual employee records.\n",
        "- Used Sets to store unique department names.\n",
        "- Used Dictionaries to store detailed employee information, including roles and salaries."
      ],
      "metadata": {
        "id": "pN8wGszqkDTH"
      }
    },
    {
      "cell_type": "code",
      "source": [],
      "metadata": {
        "id": "qhQl2BnXkJWA"
      },
      "execution_count": null,
      "outputs": []
    }
  ]
}